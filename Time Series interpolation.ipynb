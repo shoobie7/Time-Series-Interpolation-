{
 "cells": [
  {
   "cell_type": "code",
   "execution_count": 1,
   "id": "0f4e4c92",
   "metadata": {},
   "outputs": [
    {
     "name": "stdout",
     "output_type": "stream",
     "text": [
      "Missing data has been imputed using linear interpolation and the dataset has been saved as 'stock_prices_imputed.csv'\n"
     ]
    }
   ],
   "source": [
    "import pandas as pd\n",
    "import numpy as np\n",
    "\n",
    "# Create a dataframe\n",
    "data = {\n",
    "    'Date': ['2023-01-01', '2023-01-02', '2023-01-03', '2023-01-04', '2023-01-05', \n",
    "             '2023-01-06', '2023-01-07', '2023-01-08', '2023-01-09', '2023-01-10'],\n",
    "    'StockPrice': [100, 101, np.nan, 104, 105, np.nan, 108, 109, np.nan, 112]\n",
    "}\n",
    "\n",
    "df = pd.DataFrame(data)\n",
    "\n",
    "# Save the dataframe to a CSV file\n",
    "df.to_csv('stock_prices.csv', index=False)\n",
    "\n",
    "# Perform linear interpolation\n",
    "df['StockPrice'] = df['StockPrice'].interpolate(method='linear')\n",
    "\n",
    "# Save the imputed dataframe to a new CSV file\n",
    "df.to_csv('stock_prices_imputed.csv', index=False)\n",
    "\n",
    "print(\"Missing data has been imputed using linear interpolation and the dataset has been saved as 'stock_prices_imputed.csv'\")\n"
   ]
  },
  {
   "cell_type": "code",
   "execution_count": null,
   "id": "c800bfd3",
   "metadata": {},
   "outputs": [],
   "source": []
  }
 ],
 "metadata": {
  "kernelspec": {
   "display_name": "Python 3 (ipykernel)",
   "language": "python",
   "name": "python3"
  },
  "language_info": {
   "codemirror_mode": {
    "name": "ipython",
    "version": 3
   },
   "file_extension": ".py",
   "mimetype": "text/x-python",
   "name": "python",
   "nbconvert_exporter": "python",
   "pygments_lexer": "ipython3",
   "version": "3.11.5"
  }
 },
 "nbformat": 4,
 "nbformat_minor": 5
}
